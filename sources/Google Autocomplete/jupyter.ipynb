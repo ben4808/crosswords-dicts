{
 "metadata": {
  "language_info": {
   "codemirror_mode": {
    "name": "ipython",
    "version": 3
   },
   "file_extension": ".py",
   "mimetype": "text/x-python",
   "name": "python",
   "nbconvert_exporter": "python",
   "pygments_lexer": "ipython3",
   "version": "3.8.1-final"
  },
  "orig_nbformat": 2,
  "kernelspec": {
   "name": "python38132bit4be7045cd21441cfbae8ef54f01c6a99",
   "display_name": "Python 3.8.1 32-bit"
  }
 },
 "nbformat": 4,
 "nbformat_minor": 2,
 "cells": [
  {
   "cell_type": "code",
   "execution_count": 29,
   "metadata": {
    "tags": []
   },
   "outputs": [
    {
     "output_type": "stream",
     "name": "stdout",
     "text": "about time\nabout\nabout a boy\nabout last night\nabout me\nabout schmidt\nabout ruth bader ginsburg\nabout time cast\nabout synonym\nabout in spanish\nabout a girl lyrics\nabout a girl\nabout a girl chords\nabout a boy tv show\nabout a boy cast\nabout alex\nabout amazon\nabout arianne\nabout apple\na about that bass\na about that bass lyrics\na about for whatsapp\na about\na about after again\na about after\na about me\na abouti\na about time\na about a boy\nabout blank#blocked\nabout blank\nabout bank of america\nabout bill gates\nabout bitcoin\nabout buildings and cities\nabout birds\nabout brazil\nabout bees\nbillie eilish about\nbritish airways about\nbank of america about\nbbc news about\nbest buy about\nbrandy melville about\nboris johnson about\nbath and body works about\nbanana republic about\nblack panther about\nabout config\nabout cherry\nabout covid 19\nabout cats\nabout california\nabout chrome\nabout canada\nabout china\nabout capricorn\nabout cash app\ncapital one about\nchick fil a about\ncaptain marvel about\ncanadian tire about\ncalvin klein about\nclub factory about\ncristiano ronaldo about\ncheck about stimulus check\nchase bank about\ncrate and barrel about\nabout definition\nabout dogs\nabout discord\nabout donald trump\nabout dropbox\nabout damn time\nabout directv\nabout dubai\nabout device\nabout doordash\ndead to me about\ndelta airlines about\ndisney plus about\ndance monkey what is it about\ndunkin donuts about\ndaily mail about\ndow jones about\ndoordash\ndisney world about\ndr martens about\nabout endlessness\nabout elly\nabout earthquakes\nabout earth\nabout europe\nabout equal to symbol\nabout elephants\nabout egypt\nabout elon musk\nabout etsy\nelon musk about\nellen degeneres about\ned sheeran about\nelton john about\nenneagram test about\nepic games about\nemma watson about\nelvis presley about\ne about\nemilia clarke about\nabout face\nabout face meaning\nabout face and more\nabout face rose\nabout face dental hygiene spa\nabout foxes\nabout face comic\nabout flags\nabout facebook\nabout face designs\nfrozen 2 about\nfree fire about\nfox news about\nforever 21 about\nfashion nova about\nfive guys about\nfrontier airlines about\nfacebook\nfacebook marketplace about\nfreddie mercury about\nabout google\nabout german shepherds\nabout google chrome\nabout gemini\nabout golf simulator\nabout george floyd\nabout grace\nabout google sites\nabout germany\nabout go fund me\ngame of thrones about\ngreta thunberg about\ngoogle classroom about\ngoogle maps about\ngoogle chrome about\ngoogle docs about\ngoogle forms about\ngoogle translate about\ngoogle drive about\ngoogle photos about\nabout how many steps in a mile\nabout him\nabout hamilton\nabout hawaii\nabout how many people are in the world\nabout hispanic heritage month\nabout her\nabout home\nabout hulu\nabout hummingbirds\nh&amp;m about\nhome depot about\nhow about the weather today\nhobby lobby about\nhow about that urban dictionary\nhow about fox news\nharbor freight about\nhow about baby shark\nhow about donald trump\nhow about iphone 11\nabout ios 14\nabout in french\nabout it\nabout india\nabout is love\nabout in asl\nabout idaho\nabout is love chinese drama\nabout icon\ni about\ni about dropped my biscuit\ni about to lose my mind\ni about to bust\ni about to whoop somebody song lyrics\ni about to sleep\ni about to leave\ni about myself\nabout john lewis\nabout japan\nabout jack russell terriers\nabout jesus\nabout jamaica\nabout jennifer lopez\nabout justin\nabout jo jorgensen\nabout jupiter\nabout jeff bezos\njohn lewis about\njustin bieber about\njojo rabbit about\njd sports about\njeff bezos about\njeffree star about\njohn wick about\njohn wick 3 about\njames charles about\njennifer lopez about\nabout kp\nabout kamala harris\nabout kaiser permanente\nabout koenigsegg agera\nabout kentucky\nabout keto\nabout kodak\nabout khan academy\nabout kenya\nabout kayleigh mcenany\nkamala harris about\nkilling eve about\nkhan academy about\nkobe bryant about\nknives out about\nkate spade about\nkabir singh about\nkylie jenner about\nkrispy kreme about\nkeanu reeves about\nabout last night movie\nabout last night cast\nabout last night 2014\nabout love\nabout last night soundtrack\nabout love marina\nabout london\nabout last night rob lowe\nabout leos\nlatest news about\nlinkedin\nlouis vuitton about\nlove quotes about love\nlove island about\nlewis capaldi about\nlady gaga about\nlion king about\nlebron james about\nleonardo dicaprio about\nabout me questions\nabout me template\nabout me examples\nabout me ideas\nabout me page\nabout me slide\nabout my phone\nabout meaning\nabout myself\nmoney heist about\nmicrosoft teams about\nmichael jackson what about\nmarks and spencer about\nmandalorian about\nmichael kors about\nmake my trip about\nmotu patlu about\nmicrosoft 365 about\nmeghan markle about\nabout nike\nabout new york city\nabout netflix\nabout north carolina\nabout noom\nabout nintendo switch\nabout nigeria\nabout new zealand\nabout nike company\nabout nepal\nnews about google\nnews about today\nnew york times about\nnintendo switch about\nnews about yahoo\nnew look about\nnews about fox news\nnipsey hussle about\nnasty gal about\nnew balance about\nabout oregon\nabout ohsu\nabout only fans\nabout okcupid\nabout ohio\nabout oklahoma\nabout owls\nabout oceania\nabout oklahoma city\nabout oracle\nonce upon a time in hollywood about\nold town road about\noffice 365 about\noff white about\nold navy about\noppo a5s about\nolive garden about\none drive about\noffice depot about\nold songs about la\nabout phone\nabout plugins\nabout pisces\nabout page\nabout paris\nabout paypal\nabout page template\nabout pandas\nabout profiles\nabout paypal account\npeaky blinders about\npubg mobile about\npost malone about\npretty little thing about\npizza hut about\npanera bread about\nplanet fitness about\npanda express about\npost office about\npapa johns about\nabout quest diagnostics\nabout quicken loans\nabout quickbooks\nabout qatar\nabout quibi\nabout qualcomm\nabout qvc\nabout quizlet\nabout queen elizabeth\nabout quora\nquotes about life\nquotes about love\nquotes about friendship\nquotes about birthday\nquotes about good morning\nquotes about mothers day\nquotes about sad\nqatar airways about\nquestions about interview\nquiz questions about\nabout race podcast\nabout rbg\nabout rosh hashanah\nabout roblox\nabout russia\nabout robinhood\nabout roku\nabout rhyme\nabout ray\nralph lauren about\nredmi note 8 pro about\nredmi note 7 pro about\nredmi note 8 about\nrock about\nriver island about\nreal estate about\nrealme 5 about\nroyal caribbean about\nrick and morty about\nabout symbol\nabout sign\nabout smile dentures\nabout sagittarius\nabout south korea\nabout square\nabout section on linkedin\nabout scorpio\nstranger things about\nsushant singh rajput about\nsouthwest airlines about\nselena gomez about\nsri lanka about\nsamsung a50 about\nspirit airlines about\nstar wars about\nsign for about\nsports direct about\nabout time trailer\nabout the eiffel tower\nabout time imdb\nabout time soundtrack\nabout this mac\nabout tree fiddy\nabout time netflix\nabout time film\ntik tok about\nthe witcher about\nted bundy about\ntoy story 4 about\nthe new york times about\ntaco bell about\ntk maxx about\ntoday about weather\ntj maxx about\nt mobile about\nabout us\nabout us page examples\nabout us page\nabout us game\nabout us template\nabout u lil peep lyrics\nabout ukraine\nabout us book\nabout us page template\nabout us icon\nus movie about\nu about to lose your job\nus what is it about\nunder armour about\nuncut gems about\nunited airlines about\nurban outfitters about\nuber eats about\nusa today about\nus bank about\nabout verizon wireless\nabout vintage\nabout virgo\nabout venmo\nabout vimeo\nabout venus\nabout verizon communications\nabout virgo men\nabout virgo woman\nabout vintage watches\nvirat kohli about\nvictoria secret about\nvampire diaries about\nvanessa bryant about\nvivo s1 about\nvirgin media about\nvivo y15 about\nvivo z1 pro about\nverizon wireless about\nvisual studio about\nabout washington state\nabout what\nabout walmart\nabout wells fargo\nabout wechat\nabout what in spanish\nabout wolves\nabout whatsapp\nabout wisconsin\nabout walgreens\nwhat is tik tok about\nwells fargo about\nwhat about kobe bryant\nwhat about it urban dictionary\nwhat is amazon prime about\nwhat is disney plus about\nwhat about iphone 11\nwhat about premier league\nwhat about you tube\nwhat about home depot\nabout xbox one\nabout xbox\nabout xbox 360\nabout xxxtentacion\nabout xpo logistics\nabout xrp\nabout xfinity\nabout xbox series x\nabout xiaomi\nabout xiaoxi culinary idyll\nxpo logistics about\nxcel energy about\nxi jinping about\nxbox one about\nx files about\nxender app about\nxbox one x about\nxfinity mobile about\nxbox series x about\nxbox live about\nabout you\nabout you lyrics\nabout yellowstone national park\nabout you now\nabout yourself\nabout you now lyrics\nabout your father\nabout you verizon wireless\nabout youtube\nabout your teacher\nyes bank about\nyesterday movie about\nyoutube tv about\nyou netflix about\nyoutube videos about\nyoutube music about\nyellowstone national park about\nyahoo finance about\nyou season 2 about\nyankee candle about\nabout zoom\nabout zodiac signs\nabout zoom meetings\nabout zelle\nabout zoosk\nabout zebras\nabout zimbabwe\nabout zulily\nabout zillow\nabout zoloft\nzoom app about\nzoom about us\nzodiac signs about\nzayn malik about\nzoom meeting about\nzee news about\nzombies 2 about\nzip recruiter about\nzion national park about\nzenni optical about\nabout a boy movie\nabout a girl nirvana\nabout a girl tab\nabout a week ago meme\nabout of adults are sodium sensitive\nabout of the blood from the atria passes\nabout of whatsapp\nabout of whatsapp in english\nabout of india\nabout of covid 19\nabout of computer\nabout in german\nabout in italian\nabout in japanese\nabout in spanish translation\nabout in latin\nabout in linkedin\nabout in korean\nabout to play with these bands\nabout to lose your job\nabout to die\nabout to say something meme\nabout to synonym\nabout to be homeless\nabout to happen\nabout to cry meme\nabout to explode\nabout to lose my mind\nabout as fun as sayings\nabout as a preposition\nabout as useful as a chocolate teapot\nabout as subtle as a\nabout as worthless as\nabout as good as jokes\nabout as exciting as jokes\nabout as sharp as a bowling ball\nabout as funny as sayings\nabout as exciting as\nabbott and costello\nabout and phone number on whatsapp\nabout and around\nabout and magazine\nabout and about\nabove and beyond\nabout and for sustainability\nabout and regarding\nabout and contact page\nabout and bout\n"
    }
   ],
   "source": [
    "import sqlite3\n",
    "import re\n",
    "import requests\n",
    "import json\n",
    "  \n",
    "entries = {}\n",
    "source = \"Google Autocomplete\"\n",
    "\n",
    "def clean_autocomplete_item(item):\n",
    "    item = re.sub(r'<.*?>', '', item)\n",
    "    return item\n",
    "\n",
    "def entryize_string(s):\n",
    "    return re.sub(r'[^A-Z0-9]', '', s.upper())\n",
    "\n",
    "def parse_autocomplete_results(results):\n",
    "    result_items = []\n",
    "    for line in results[1]:\n",
    "        result_items.append(clean_autocomplete_item(line[0]))\n",
    "    return result_items\n",
    "\n",
    "def get_autocomplete_results(query, cursor_position):\n",
    "    url = \"https://www.google.com/complete/search\"\n",
    "    params = {'q': query, 'cp': cursor_position, 'client': 'psy-ab', 'hl': 'en'} \n",
    "    results = requests.get(url = url, params = params).json()\n",
    "    return parse_autocomplete_results(results)\n",
    "\n",
    "def get_all_queries_for_word(word):\n",
    "    queries = []\n",
    "    queries.append([word, len(word)])\n",
    "    queries.append([word + ' ', len(word) + 1])\n",
    "    queries.append([word, 0])\n",
    "    queries.append([' ' + word, 0])\n",
    "    #return queries\n",
    "\n",
    "    for i in range(ord('a'), ord('z')+1):\n",
    "        letter = chr(i)\n",
    "\n",
    "        end_query = word + ' ' + letter\n",
    "        queries.append([end_query, len(end_query)])\n",
    "\n",
    "        start_query = letter + ' ' + word\n",
    "        queries.append([start_query, 1])\n",
    "\n",
    "    for preposition in ['a', 'an', 'the', 'of', 'in', 'to', 'as', 'and']:\n",
    "        query = word + f' {preposition} '\n",
    "        queries.append([query, len(query)])\n",
    "\n",
    "    return queries\n",
    "\n",
    "with open(\"oxford_3000\") as fp: \n",
    "    for i in range(1):\n",
    "        line = fp.readline()\n",
    "        word = line.split()[0]\n",
    "\n",
    "        for query in get_all_queries_for_word(word):\n",
    "            results = get_autocomplete_results(query[0], query[1])\n",
    "            for result in results:\n",
    "                entry = entryize_string(result)\n",
    "                if entry not in entries:\n",
    "                    entries[entry] = [entry, result, source, word, 0]\n",
    "\n",
    "    for key, entry in entries.items():\n",
    "        print(entry[1])\n",
    "        "
   ]
  },
  {
   "cell_type": "code",
   "execution_count": 18,
   "metadata": {
    "tags": []
   },
   "outputs": [
    {
     "output_type": "stream",
     "name": "stdout",
     "text": "[6, 7, 7, 8, 9]\n"
    }
   ],
   "source": [
    "a = [6, 7]\n",
    "a += [7, 8, 9]\n",
    "print(a)\n"
   ]
  },
  {
   "cell_type": "code",
   "execution_count": null,
   "metadata": {},
   "outputs": [],
   "source": []
  }
 ]
}